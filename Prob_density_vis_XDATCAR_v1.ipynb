{
 "cells": [
  {
   "cell_type": "code",
   "execution_count": null,
   "metadata": {},
   "outputs": [],
   "source": [
    "from IPython.display import display, HTML\n",
    "display(HTML(\"<style>.container { width: 98% !important; }</style>\"))"
   ]
  },
  {
   "cell_type": "code",
   "execution_count": null,
   "metadata": {},
   "outputs": [],
   "source": [
    "from pymatgen.core.trajectory import Trajectory\n",
    "from pymatgen.core import Structure\n",
    "from pymatgen.analysis.diffusion.aimd.pathway import ProbabilityDensityAnalysis\n",
    "from pymatgen.analysis.diffusion.analyzer import DiffusionAnalyzer"
   ]
  },
  {
   "cell_type": "code",
   "execution_count": null,
   "metadata": {},
   "outputs": [],
   "source": [
    "this_folder = \"./example_XDATCAR_folder/\"\n",
    "traj = Trajectory.from_file(this_folder + 'XDATCAR_generated2')"
   ]
  },
  {
   "cell_type": "code",
   "execution_count": null,
   "metadata": {},
   "outputs": [],
   "source": [
    "structure = Structure.from_file(this_folder + '/POSCAR')\n",
    "diff=DiffusionAnalyzer.from_structures(traj, temperature=1100, specie='Li', time_step=1, step_skip=1)"
   ]
  },
  {
   "cell_type": "code",
   "execution_count": null,
   "metadata": {},
   "outputs": [],
   "source": [
    "pda = ProbabilityDensityAnalysis.from_diffusion_analyzer(diff)\n",
    "pda.to_chgcar(filename= this_folder + \"CHGCAR_new.vasp\")"
   ]
  },
  {
   "cell_type": "code",
   "execution_count": null,
   "metadata": {},
   "outputs": [],
   "source": []
  }
 ],
 "metadata": {
  "kernelspec": {
   "display_name": "env_for_pda1",
   "language": "python",
   "name": "env_for_pda1"
  },
  "language_info": {
   "codemirror_mode": {
    "name": "ipython",
    "version": 3
   },
   "file_extension": ".py",
   "mimetype": "text/x-python",
   "name": "python",
   "nbconvert_exporter": "python",
   "pygments_lexer": "ipython3",
   "version": "3.9.19"
  }
 },
 "nbformat": 4,
 "nbformat_minor": 4
}
